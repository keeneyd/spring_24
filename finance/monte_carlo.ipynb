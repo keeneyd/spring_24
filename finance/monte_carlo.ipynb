{
 "cells": [
  {
   "cell_type": "code",
   "execution_count": null,
   "metadata": {},
   "outputs": [],
   "source": [
    "import yfinance as yf\n",
    "import pandas as pd\n",
    "import numpy as np\n",
    "import matplotlib.pyplot as plt\n",
    "\n",
    "\n",
    "import warnings\n",
    "warnings.simplefilter(action='ignore', category=pd.errors.PerformanceWarning)"
   ]
  },
  {
   "cell_type": "code",
   "execution_count": null,
   "metadata": {},
   "outputs": [],
   "source": [
    "stock = \"MSFT\""
   ]
  },
  {
   "cell_type": "code",
   "execution_count": null,
   "metadata": {},
   "outputs": [],
   "source": [
    "raw_data = yf.download([stock],start=\"2020-01-01\", end = \"2024-12-31\")\n",
    "data = raw_data['Adj Close']\n",
    "\n",
    "data"
   ]
  },
  {
   "cell_type": "code",
   "execution_count": null,
   "metadata": {},
   "outputs": [],
   "source": [
    "returns = data.pct_change()\n",
    "last_price = data.iloc[-1]\n",
    "print(f\"{stock} Current Price : {last_price}\")"
   ]
  },
  {
   "cell_type": "code",
   "execution_count": null,
   "metadata": {},
   "outputs": [],
   "source": [
    "returns.hist(bins=100)"
   ]
  },
  {
   "cell_type": "code",
   "execution_count": null,
   "metadata": {},
   "outputs": [],
   "source": [
    "daily_volatility = returns.std()\n",
    "rtn = np.random.normal(0,daily_volatility)\n",
    "rtn"
   ]
  },
  {
   "cell_type": "code",
   "execution_count": null,
   "metadata": {},
   "outputs": [],
   "source": [
    "price = last_price * (1 + rtn)\n",
    "price"
   ]
  },
  {
   "cell_type": "code",
   "execution_count": null,
   "metadata": {},
   "outputs": [],
   "source": [
    "num_simulations = 1000\n",
    "num_days = 200\n",
    "\n",
    "simulations_df = pd.DataFrame()\n",
    "\n",
    "for x in range(num_simulations):\n",
    "    count = 0\n",
    "    price_series = []\n",
    "    rtn = np.random.normal(0,daily_volatility)\n",
    "    price = last_price + (1+ rtn)\n",
    "    price_series.append(price)\n",
    "    for d in range(num_days):\n",
    "        rtn = np.random.normal(0,daily_volatility)\n",
    "        price = price_series[d] * (1+rtn)\n",
    "        price_series.append(price)\n",
    "    simulations_df[x] = price_series\n",
    "\n",
    "simulations_df\n",
    "\n"
   ]
  },
  {
   "cell_type": "code",
   "execution_count": null,
   "metadata": {},
   "outputs": [],
   "source": [
    "fig = plt.figure()\n",
    "plt.plot(simulations_df)\n",
    "plt.xlabel('Number of Days')\n",
    "plt.ylabel('Possible Prices')\n",
    "\n",
    "plt.axhline(y = last_price, color = 'b', linestyle = '-')\n",
    "plt.show()\n"
   ]
  },
  {
   "cell_type": "code",
   "execution_count": null,
   "metadata": {},
   "outputs": [],
   "source": [
    "upper_bound = simulations_df.quantile(.95, axis=1)\n",
    "lower_bound = simulations_df.quantile(.05, axis=1)\n",
    "\n",
    "stock_range = pd.concat([upper_bound, lower_bound], axis=1)\n",
    "\n",
    "\n",
    "fig = plt.figure()\n",
    "plt.plot(stock_range)\n",
    "plt.xlabel('Number of Days')\n",
    "plt.ylabel('Possible Prices')\n",
    "plt.title(\"Upper and Lower Bounds\")\n",
    "\n",
    "plt.axhline(y = last_price, color = 'b', linestyle = '-')\n",
    "\n",
    "plt.show()\n",
    "                                      "
   ]
  },
  {
   "cell_type": "code",
   "execution_count": null,
   "metadata": {},
   "outputs": [],
   "source": []
  },
  {
   "cell_type": "code",
   "execution_count": null,
   "metadata": {},
   "outputs": [],
   "source": [
    "from scipy.stats import t"
   ]
  },
  {
   "cell_type": "code",
   "execution_count": null,
   "metadata": {},
   "outputs": [],
   "source": [
    "num_samples = 100"
   ]
  },
  {
   "cell_type": "code",
   "execution_count": null,
   "metadata": {},
   "outputs": [],
   "source": [
    "ret = returns[1::]\n",
    "params = t.fit(ret)\n",
    "\n",
    "t_results = t.rvs(df = params[0], loc = params[1], scale = params[2], size = 1000)\n",
    "\n",
    "\n",
    "returns.hist(bins = 100, density = True, alpha = 0.6, color = 'b', label = 'Actual Returns')\n",
    "\n",
    "plt.hist(t_results, bins = 100, density = True, alpha = 0.6, color = 'g', label = 'Simulated Returns')\n",
    "\n",
    "plt.xlabel('Value')\n",
    "plt.ylabel('Density')\n",
    "plt.title('Actual returns vs Projections with a Student\\'s t-distribution')\n",
    "plt.legend(loc = 'center left')\n",
    "plt.grid(True)\n",
    "plt.show()"
   ]
  },
  {
   "cell_type": "code",
   "execution_count": null,
   "metadata": {},
   "outputs": [],
   "source": [
    "num_simulations = 1000\n",
    "num_days = 200\n",
    "\n",
    "simulations_t_df = pd.DataFrame()\n",
    "\n",
    "for x in range(num_simulations):\n",
    "    count = 0\n",
    "    price_series = []\n",
    "    rtn = t.rvs(df = params[0], loc = params[1], scale = params[2], size=1)[0]\n",
    "    price = last_price + (1+ rtn)\n",
    "    price_series.append(price)\n",
    "    for d in range(num_days):\n",
    "        rtn = t.rvs(df = params[0], loc = params[1], scale = params[2], size=1)[0]\n",
    "        price = price_series[d] * (1+rtn)\n",
    "        price_series.append(price)\n",
    "    simulations_t_df[x] = price_series\n",
    "\n",
    "fig = plt.figure()\n",
    "plt.plot(simulations_t_df)\n",
    "plt.xlabel('Number of Days')\n",
    "plt.ylabel('Possible Prices')\n",
    "\n",
    "plt.axhline(y = last_price, color = 'b', linestyle = '-')\n",
    "plt.show()\n"
   ]
  },
  {
   "cell_type": "code",
   "execution_count": null,
   "metadata": {},
   "outputs": [],
   "source": [
    "upper_bound = simulations_t_df.quantile(.95, axis=1)\n",
    "lower_bound = simulations_t_df.quantile(.05, axis=1)\n",
    "\n",
    "stock_range = pd.concat([upper_bound, lower_bound], axis=1)\n",
    "\n",
    "\n",
    "fig = plt.figure()\n",
    "plt.plot(stock_range)\n",
    "plt.xlabel('Number of Days')\n",
    "plt.ylabel('Possible Prices')\n",
    "plt.title(\"Upper and Lower Bounds\")\n",
    "\n",
    "plt.axhline(y = last_price, color = 'b', linestyle = '-')\n",
    "\n",
    "plt.show()"
   ]
  },
  {
   "cell_type": "code",
   "execution_count": null,
   "metadata": {},
   "outputs": [],
   "source": []
  },
  {
   "cell_type": "code",
   "execution_count": null,
   "metadata": {},
   "outputs": [],
   "source": []
  },
  {
   "cell_type": "code",
   "execution_count": null,
   "metadata": {},
   "outputs": [],
   "source": []
  },
  {
   "cell_type": "code",
   "execution_count": null,
   "metadata": {},
   "outputs": [],
   "source": []
  },
  {
   "cell_type": "code",
   "execution_count": null,
   "metadata": {},
   "outputs": [],
   "source": []
  },
  {
   "cell_type": "code",
   "execution_count": null,
   "metadata": {},
   "outputs": [],
   "source": []
  },
  {
   "cell_type": "code",
   "execution_count": null,
   "metadata": {},
   "outputs": [],
   "source": []
  },
  {
   "cell_type": "code",
   "execution_count": null,
   "metadata": {},
   "outputs": [],
   "source": []
  },
  {
   "cell_type": "code",
   "execution_count": null,
   "metadata": {},
   "outputs": [],
   "source": []
  }
 ],
 "metadata": {
  "kernelspec": {
   "display_name": ".venv",
   "language": "python",
   "name": "python3"
  },
  "language_info": {
   "codemirror_mode": {
    "name": "ipython",
    "version": 3
   },
   "file_extension": ".py",
   "mimetype": "text/x-python",
   "name": "python",
   "nbconvert_exporter": "python",
   "pygments_lexer": "ipython3",
   "version": "3.12.3"
  }
 },
 "nbformat": 4,
 "nbformat_minor": 2
}
