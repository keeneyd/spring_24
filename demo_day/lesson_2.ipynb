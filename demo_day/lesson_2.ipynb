{
 "cells": [
  {
   "cell_type": "code",
   "execution_count": null,
   "metadata": {},
   "outputs": [],
   "source": [
    "# Last time we covered, variables, strings, numbers, and operator booleans and started lists\n",
    "\n",
    "# Today:\n",
    "# Lists, Dictionaries, Logical Controls, Loops.\n",
    "\n",
    "# Input any two numbers, code should return whether or not the numbers are palindromes."
   ]
  },
  {
   "cell_type": "code",
   "execution_count": null,
   "metadata": {},
   "outputs": [],
   "source": [
    "#lists\n",
    "\n",
    "x = [1,2,3,[4,5,6,6,6,6,6,6,7],5]\n",
    "sub_x = [4,5,6,6,6,6,6,6,7]\n",
    "\n",
    "sub_x.index(6)\n"
   ]
  },
  {
   "cell_type": "code",
   "execution_count": null,
   "metadata": {},
   "outputs": [],
   "source": [
    "cars = ['ford','jeep','tesla','volkswagen']\n",
    "other_cars = ['chevy','lexus','bmw']\n",
    "\n",
    "\n",
    "cars.extend(other_cars)\n",
    "print(cars)"
   ]
  },
  {
   "cell_type": "code",
   "execution_count": null,
   "metadata": {},
   "outputs": [],
   "source": [
    "car = {\n",
    "    'color':'blue'\n",
    "    ,'make':'jeep'\n",
    "    ,'year':2022\n",
    "    , 'maintenance_costs':[500,200,602]\n",
    "}"
   ]
  },
  {
   "cell_type": "code",
   "execution_count": null,
   "metadata": {},
   "outputs": [],
   "source": [
    "car.get('year',\"I'm sorry I do not know that\")"
   ]
  },
  {
   "cell_type": "code",
   "execution_count": null,
   "metadata": {},
   "outputs": [],
   "source": [
    "car.values()"
   ]
  },
  {
   "cell_type": "code",
   "execution_count": null,
   "metadata": {},
   "outputs": [],
   "source": [
    "# if statements\n",
    "\n",
    "x = 4\n",
    "y = 5\n",
    "\n",
    "if x == y:\n",
    "    print(\"The two numbers are equal\")\n",
    "\n",
    "elif x < y:\n",
    "    print(\"x is bigger than y\")\n",
    "\n",
    "elif x > y:\n",
    "    print(\"x is smaller than y\")\n",
    "\n",
    "else:\n",
    "    print('If we reach this line, call for help')\n",
    "\n",
    "\n",
    "\n"
   ]
  },
  {
   "cell_type": "code",
   "execution_count": null,
   "metadata": {},
   "outputs": [],
   "source": [
    "teacher = \"Derek\"\n",
    "day = \"Saturday\"\n",
    "\n",
    "if teacher == \"Dave\":\n",
    "    if day == \"Monday\":\n",
    "        print(\"We are learning to code\")\n",
    "    else:\n",
    "        print(\"We are outside in the sunshine\")\n",
    "elif teacher == 'Derek':\n",
    "    if day == \"Monday\":\n",
    "        print(\"We are learning Power BI\")\n",
    "    elif day == \"Wednesday\":\n",
    "        print(\"We are learning SQL\")\n",
    "    else:\n",
    "        print(\"It's the weekend you are doing homework\")\n",
    "else:\n",
    "    print(\"Class is over, you graduated.  Hooray!\")\n"
   ]
  },
  {
   "cell_type": "code",
   "execution_count": null,
   "metadata": {},
   "outputs": [],
   "source": [
    "i = 0\n",
    "while i < 10:\n",
    "    print(i)\n",
    "    i = i + 1\n"
   ]
  },
  {
   "cell_type": "code",
   "execution_count": null,
   "metadata": {},
   "outputs": [],
   "source": [
    "# Write code that given two integers tells you whether or not they are palindromes of each other.\n",
    "\n",
    "\n",
    "\n",
    "x = 12345689\n",
    "\n",
    "leftovers = x // 10\n",
    "\n",
    "last_digit = x % 10\n",
    "\n",
    "print(leftovers)\n"
   ]
  },
  {
   "cell_type": "code",
   "execution_count": null,
   "metadata": {},
   "outputs": [],
   "source": [
    "a = 12321\n",
    "\n",
    "\n",
    "b = 12321\n",
    "\n",
    "#your code runs here\n",
    "\n",
    "print(False)"
   ]
  },
  {
   "cell_type": "code",
   "execution_count": null,
   "metadata": {},
   "outputs": [],
   "source": [
    "import pandas as pd "
   ]
  },
  {
   "cell_type": "code",
   "execution_count": null,
   "metadata": {},
   "outputs": [],
   "source": [
    "from sklearn import datasets\n",
    "from sklearn.model_selection import train_test_split\n",
    "from sklearn.ensemble import RandomForestClassifier"
   ]
  },
  {
   "cell_type": "code",
   "execution_count": null,
   "metadata": {},
   "outputs": [],
   "source": [
    "iris = datasets.load_iris()"
   ]
  },
  {
   "cell_type": "code",
   "execution_count": null,
   "metadata": {},
   "outputs": [],
   "source": [
    "iris"
   ]
  },
  {
   "cell_type": "code",
   "execution_count": null,
   "metadata": {},
   "outputs": [],
   "source": [
    "iris_df = pd.DataFrame(iris.data)"
   ]
  },
  {
   "cell_type": "code",
   "execution_count": null,
   "metadata": {},
   "outputs": [],
   "source": [
    "iris_df"
   ]
  },
  {
   "cell_type": "code",
   "execution_count": null,
   "metadata": {},
   "outputs": [],
   "source": [
    "iris_df.columns = iris.feature_names\n",
    "\n",
    "iris_df"
   ]
  },
  {
   "cell_type": "code",
   "execution_count": null,
   "metadata": {},
   "outputs": [],
   "source": [
    "import re\n",
    "\n",
    "def slugify(s):\n",
    "  s = s.lower().strip()\n",
    "  s = re.sub(r'[^\\w\\s-]', '', s)\n",
    "  s = re.sub(r'[\\s_-]+', '_', s)\n",
    "  s = re.sub(r'^-+|-+$', '', s)\n",
    "  return s"
   ]
  },
  {
   "cell_type": "code",
   "execution_count": null,
   "metadata": {},
   "outputs": [],
   "source": [
    "iris_df.columns = [slugify(x) for x in iris_df.columns]\n",
    "iris_df"
   ]
  },
  {
   "cell_type": "code",
   "execution_count": null,
   "metadata": {},
   "outputs": [],
   "source": [
    "iris.keys()"
   ]
  },
  {
   "cell_type": "code",
   "execution_count": null,
   "metadata": {},
   "outputs": [],
   "source": [
    "iris_df['class'] = iris.target"
   ]
  },
  {
   "cell_type": "code",
   "execution_count": null,
   "metadata": {},
   "outputs": [],
   "source": [
    "iris_df"
   ]
  },
  {
   "cell_type": "code",
   "execution_count": null,
   "metadata": {},
   "outputs": [],
   "source": [
    "iris_df.describe()"
   ]
  },
  {
   "cell_type": "code",
   "execution_count": null,
   "metadata": {},
   "outputs": [],
   "source": [
    "iris_df.corr()"
   ]
  },
  {
   "cell_type": "code",
   "execution_count": null,
   "metadata": {},
   "outputs": [],
   "source": [
    "pd.plotting.scatter_matrix(iris_df)"
   ]
  },
  {
   "cell_type": "code",
   "execution_count": null,
   "metadata": {},
   "outputs": [],
   "source": [
    "y = iris_df['class']\n",
    "x = iris_df[:,-1]\n",
    "\n",
    "x_train, x_test, y_train, y_test = train_test_split(x, y)"
   ]
  },
  {
   "cell_type": "code",
   "execution_count": null,
   "metadata": {},
   "outputs": [],
   "source": []
  },
  {
   "cell_type": "code",
   "execution_count": null,
   "metadata": {},
   "outputs": [],
   "source": []
  },
  {
   "cell_type": "code",
   "execution_count": null,
   "metadata": {},
   "outputs": [],
   "source": []
  },
  {
   "cell_type": "code",
   "execution_count": null,
   "metadata": {},
   "outputs": [],
   "source": []
  },
  {
   "cell_type": "code",
   "execution_count": null,
   "metadata": {},
   "outputs": [],
   "source": []
  },
  {
   "cell_type": "code",
   "execution_count": null,
   "metadata": {},
   "outputs": [],
   "source": []
  },
  {
   "cell_type": "code",
   "execution_count": null,
   "metadata": {},
   "outputs": [],
   "source": []
  },
  {
   "cell_type": "code",
   "execution_count": null,
   "metadata": {},
   "outputs": [],
   "source": [
    "def palindrome_pairs():\n",
    "    number_1 = 1234566\n",
    "    number_2 = 654321\n",
    "\n",
    "    reverse_num = 0\n",
    "    while number_1 >0:\n",
    "        remainder = number_1 % 10\n",
    "        reverse_num = (reverse_num * 10) + remainder\n",
    "        number_1 = number_1 // 10\n",
    "\n",
    "    print(reverse_num)"
   ]
  },
  {
   "cell_type": "code",
   "execution_count": null,
   "metadata": {},
   "outputs": [],
   "source": [
    "number_1 = 12321\n",
    "number_2 = 12321\n",
    "\n",
    "is_palindrome = False\n",
    "\n",
    "if number_1 == number_2:\n",
    "\n",
    "    reverse_num = 0\n",
    "    while number_1 >0:\n",
    "        remainder = number_1 % 10\n",
    "        reverse_num = (reverse_num * 10) + remainder\n",
    "        number_1 = number_1 // 10\n",
    "        is_palindrome = reverse_num == number_2\n",
    "\n",
    "is_palindrome"
   ]
  },
  {
   "cell_type": "code",
   "execution_count": null,
   "metadata": {},
   "outputs": [],
   "source": [
    "def fibonacci_with_list(n):\n",
    "    fib_series = [0, 1]\n",
    "    for i in range(2, n):\n",
    "        fib_series.append(fib_series[-1] + fib_series[-2])\n",
    "    return fib_series\n",
    " \n",
    "# Example usage:\n",
    "n = 10\n",
    "result = fibonacci_with_list(n)\n",
    "print(f\"Fibonacci series with {n} elements:\", result)"
   ]
  },
  {
   "cell_type": "code",
   "execution_count": null,
   "metadata": {},
   "outputs": [],
   "source": [
    "for i in range(2,10):\n",
    "    print(i)"
   ]
  },
  {
   "cell_type": "code",
   "execution_count": null,
   "metadata": {},
   "outputs": [],
   "source": []
  }
 ],
 "metadata": {
  "kernelspec": {
   "display_name": ".venv",
   "language": "python",
   "name": "python3"
  },
  "language_info": {
   "codemirror_mode": {
    "name": "ipython",
    "version": 3
   },
   "file_extension": ".py",
   "mimetype": "text/x-python",
   "name": "python",
   "nbconvert_exporter": "python",
   "pygments_lexer": "ipython3",
   "version": "3.12.3"
  }
 },
 "nbformat": 4,
 "nbformat_minor": 2
}
